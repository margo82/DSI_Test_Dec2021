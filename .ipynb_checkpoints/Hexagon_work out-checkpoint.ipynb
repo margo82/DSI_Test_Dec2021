{
 "cells": [
  {
   "cell_type": "markdown",
   "id": "d3a5118b",
   "metadata": {},
   "source": [
    "Instructions:\n",
    "    \n",
    "==> Write a python function that will plot the points that come from the following procedure: \n",
    "\n",
    "- Create a hexagon\n",
    "- Pick a random point, P, inside the hexagon. \n",
    "- Make a triangle, T, by randomly connecting P to two adjacent vertices of the hexagon.\n",
    "- Compute the centroid of T. This becomes your new random point, P.  Save it, make a new random triangle as above, compute the new centroid etc… Repeat this process 10,000 times. \n",
    "\n",
    "Plot all of your 10,000 random points. What shape does it describe? \n"
   ]
  },
  {
   "cell_type": "code",
   "execution_count": null,
   "id": "3af29e53",
   "metadata": {},
   "outputs": [],
   "source": [
    "from shapely.geometry.polygon import Polygon\n",
    "import matplotlib.patches\n",
    "import matplotlib.pyplot as plt\n",
    "import numpy as np\n",
    "from random import seed,random,randrange, randint\n",
    "from matplotlib.path import Path\n",
    "import math"
   ]
  },
  {
   "cell_type": "code",
   "execution_count": null,
   "id": "f2d51a9d",
   "metadata": {},
   "outputs": [],
   "source": [
    "#draw regular hexagon\n",
    "a = 2* math.pi/6\n",
    "r = 100\n",
    "x = 0\n",
    "y = 0 \n",
    "points = []\n",
    "for i in range(6):\n",
    "    p1 = x + r*math.cos(a*i)\n",
    "    p2 = y + r*math.sin(a*i)\n",
    "    points.append([p1,p2])\n",
    "points = np.array(points)\n",
    "print(np.shape(points), points, type(points))\n",
    "hex = Polygon(points)\n",
    "hex"
   ]
  },
  {
   "cell_type": "code",
   "execution_count": null,
   "id": "f2d9525b",
   "metadata": {},
   "outputs": [],
   "source": [
    "# points = np.array([[0,1],[1,2],[2,2],[3,1],[2,0],[1,0]])*1\n",
    "# print(points, np.shape(points))\n",
    "# hex = Polygon(points)\n",
    "# hex"
   ]
  },
  {
   "cell_type": "code",
   "execution_count": null,
   "id": "7510f7ac",
   "metadata": {},
   "outputs": [],
   "source": [
    "#seed(1)  # reset the random function if needed\n",
    "P = [[randrange(int(points[:,0].min()),int(points[:,0].max())),\n",
    "      randrange(int(points[:,1].min()),int(points[:,1].max()))]]\n",
    "print(P, np.shape(P))\n",
    "h = Path(points)\n",
    "print(h.contains_points(P))\n",
    "\n",
    "plt.figure()\n",
    "plt.axis('equal')\n",
    "plt.scatter(points[:,0], points[:,1])\n",
    "hex1 = plt.Polygon(points, color='red')\n",
    "plt.gca().add_patch(hex1)\n",
    "plt.scatter(P[0][0], P[0][1], color = 'green', zorder=10)\n",
    "plt.show()"
   ]
  },
  {
   "cell_type": "code",
   "execution_count": null,
   "id": "90f1f37d",
   "metadata": {},
   "outputs": [],
   "source": [
    "t = randint(0,5)\n",
    "print(t)\n",
    "T1 = points[t]\n",
    "print(T1)\n",
    "if t < 5:\n",
    "    T2 = points[t+1]\n",
    "elif t == 5:\n",
    "    T2 = points[0]\n",
    "tri1 = np.vstack([P[0],T1,T2])\n",
    "print(tri1)"
   ]
  },
  {
   "cell_type": "code",
   "execution_count": null,
   "id": "4b5bd5b5",
   "metadata": {},
   "outputs": [],
   "source": [
    "plt.figure()\n",
    "plt.axis('equal')\n",
    "plt.scatter(points[:,0], points[:,1])\n",
    "hex1 = plt.Polygon(points, color='red')\n",
    "plt.gca().add_patch(hex1)\n",
    "plt.scatter(tri1[:,0],tri1[:,1], color = 'green', marker='^', s=100,zorder=10)\n",
    "tri2 = plt.Polygon(tri1,color = 'green')\n",
    "plt.gca().add_patch(tri2)\n",
    "plt.show()"
   ]
  },
  {
   "cell_type": "code",
   "execution_count": null,
   "id": "e4d00cd4",
   "metadata": {},
   "outputs": [],
   "source": [
    "# calculate the centroid of tri1\n",
    "newPx = round(np.mean(tri1[:,0]),2)\n",
    "newPy = round(np.mean(tri1[:,1]),2)\n",
    "print(newPx, newPy)"
   ]
  },
  {
   "cell_type": "code",
   "execution_count": null,
   "id": "8388b716",
   "metadata": {},
   "outputs": [],
   "source": [
    "plt.figure()\n",
    "plt.axis('equal')\n",
    "plt.scatter(points[:,0], points[:,1])\n",
    "hex1 = plt.Polygon(points, color='red')\n",
    "plt.gca().add_patch(hex1)\n",
    "plt.scatter(tri1[:,0],tri1[:,1], color = 'green', marker='^', s=100,zorder=10)\n",
    "tri2 = plt.Polygon(tri1,color = 'green')\n",
    "plt.gca().add_patch(tri2)\n",
    "plt.scatter(newPx,newPy,marker='*',s=100,color='cyan', zorder=20)\n",
    "plt.show()"
   ]
  },
  {
   "cell_type": "code",
   "execution_count": null,
   "id": "869ac55f",
   "metadata": {},
   "outputs": [],
   "source": []
  },
  {
   "cell_type": "code",
   "execution_count": 1,
   "id": "3869a2ef",
   "metadata": {},
   "outputs": [],
   "source": [
    "# function \n",
    "\n",
    "def draw_crazy_polygon(ntime,sides):\n",
    "    \n",
    "    # Import packages needed for the function\n",
    "    import numpy as np\n",
    "    from random import randrange, randint\n",
    "    import math\n",
    "    from matplotlib.path import Path\n",
    "\n",
    "    \n",
    "    #draw regular polygon with sides being the number of sides defined by user\n",
    "    a = 2* math.pi/sides\n",
    "    r = 100\n",
    "    x = 0\n",
    "    y = 0 \n",
    "    poly_pts = []\n",
    "    for i in range(sides):\n",
    "        p1 = x + r*math.cos(a*i)\n",
    "        p2 = y + r*math.sin(a*i)\n",
    "        poly_pts.append([p1,p2])\n",
    "    poly_pts = np.array(poly_pts)   # points is the \n",
    "    \n",
    "    # create a random point P and check if it is inside the polygon created\n",
    "    INSIDE = 0\n",
    "    while INSIDE != True:\n",
    "        # create a random point within the min and max values of the hexagon \n",
    "        P = [[randrange(int(poly_pts[:,0].min()),int(poly_pts[:,0].max())),\n",
    "              randrange(int(poly_pts[:,1].min()),int(poly_pts[:,1].max()))]]\n",
    "        # check that P is inside the hexagaon\n",
    "        INSIDE = Path(poly_pts).contains_points(P)\n",
    "\n",
    "    # create the output array with all the new P created\n",
    "    P_all = P\n",
    "\n",
    "    for i in range(ntime):    \n",
    "        # select 2 random vortices (next to each other)\n",
    "        rn = randint(0,sides-1) \n",
    "        T1 = poly_pts[rn]\n",
    "        if rn < sides-1:          # if the vortices is not the last vortices, take the next one\n",
    "            T2 = poly_pts[rn+1]\n",
    "        elif rn == sides-1:       # if T1 is the last vortices of points, choose the first data point in points\n",
    "            T2 = poly_pts[0]\n",
    "        T = np.vstack([P,T1,T2]) # coordinates of the new triangle T\n",
    "\n",
    "        # calculate the centroid of the triangle T\n",
    "        newPx = round(np.mean(T[:,0]),2)  \n",
    "        newPy = round(np.mean(T[:,1]),2)\n",
    "        \n",
    "        # store-assign data\n",
    "        P_all.append([newPx,newPy]) # coordinates of the new P store into P_all\n",
    "        P = [newPx,newPy]  #assign the new coordinates to the new P points\n",
    "    \n",
    "    P_all = np.array(P_all)\n",
    "    \n",
    "    return poly_pts, P_all\n",
    "\n",
    "\n"
   ]
  },
  {
   "cell_type": "code",
   "execution_count": 5,
   "id": "99257274",
   "metadata": {},
   "outputs": [
    {
     "data": {
      "image/png": "[encoded data removed]",
      "text/plain": [
       "<Figure size 432x288 with 1 Axes>"
      ]
     },
     "metadata": {
      "needs_background": "light"
     },
     "output_type": "display_data"
    }
   ],
   "source": [
    "poly_pts, P_all = draw_crazy_polygon(10000,9)\n",
    "\n",
    "# plot the result of the function 'draw_crazy_polygon'\n",
    "\n",
    "import matplotlib.patches\n",
    "import matplotlib.pyplot as plt\n",
    "\n",
    "\n",
    "plt.figure()\n",
    "plt.axis('equal')\n",
    "plt.scatter(poly_pts[:,0], poly_pts[:,1], marker='*', s=200, color = 'lime')\n",
    "poly = plt.Polygon(poly_pts, color='steelblue')\n",
    "plt.gca().add_patch(poly)\n",
    "plt.scatter(P_all[:,0],P_all[:,1],marker='.',s=100,color='gold', zorder=2)\n",
    "plt.show()"
   ]
  },
  {
   "cell_type": "code",
   "execution_count": null,
   "id": "3dd5f8ca",
   "metadata": {},
   "outputs": [],
   "source": [
    "from shapely.geometry.polygon import Polygon\n",
    "\n"
   ]
  },
  {
   "cell_type": "code",
   "execution_count": null,
   "id": "d97143d2",
   "metadata": {},
   "outputs": [],
   "source": [
    "np.shape(P_all)"
   ]
  },
  {
   "cell_type": "code",
   "execution_count": null,
   "id": "0cc7a685",
   "metadata": {},
   "outputs": [],
   "source": [
    "type(P_all)"
   ]
  },
  {
   "cell_type": "code",
   "execution_count": null,
   "id": "7ed60043",
   "metadata": {},
   "outputs": [],
   "source": [
    "np.shape(P)"
   ]
  },
  {
   "cell_type": "code",
   "execution_count": null,
   "id": "acaf9e11",
   "metadata": {},
   "outputs": [],
   "source": [
    "P[0][0]"
   ]
  },
  {
   "cell_type": "code",
   "execution_count": null,
   "id": "e28b2589",
   "metadata": {},
   "outputs": [],
   "source": []
  }
 ],
 "metadata": {
  "kernelspec": {
   "display_name": "Python 3",
   "language": "python",
   "name": "python3"
  },
  "language_info": {
   "codemirror_mode": {
    "name": "ipython",
    "version": 3
   },
   "file_extension": ".py",
   "mimetype": "text/x-python",
   "name": "python",
   "nbconvert_exporter": "python",
   "pygments_lexer": "ipython3",
   "version": "3.7.10"
  },
  "varInspector": {
   "cols": {
    "lenName": 16,
    "lenType": 16,
    "lenVar": 40
   },
   "kernels_config": {
    "python": {
     "delete_cmd_postfix": "",
     "delete_cmd_prefix": "del ",
     "library": "var_list.py",
     "varRefreshCmd": "print(var_dic_list())"
    },
    "r": {
     "delete_cmd_postfix": ") ",
     "delete_cmd_prefix": "rm(",
     "library": "var_list.r",
     "varRefreshCmd": "cat(var_dic_list()) "
    }
   },
   "types_to_exclude": [
    "module",
    "function",
    "builtin_function_or_method",
    "instance",
    "_Feature"
   ],
   "window_display": false
  }
 },
 "nbformat": 4,
 "nbformat_minor": 5
}
